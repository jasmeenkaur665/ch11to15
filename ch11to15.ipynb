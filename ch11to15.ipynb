{
 "cells": [
  {
   "cell_type": "markdown",
   "id": "d06fa6ce",
   "metadata": {},
   "source": [
    "13.1 Write the current date as a string to today.txt"
   ]
  },
  {
   "cell_type": "code",
   "execution_count": 1,
   "id": "2c1ba00c",
   "metadata": {},
   "outputs": [],
   "source": [
    "from datetime import date\n",
    "\n",
    "# get today's date\n",
    "today = date.today()\n",
    "\n",
    "# write to file\n",
    "with open(\"today.txt\", \"w\") as file:\n",
    "    file.write(str(today))"
   ]
  },
  {
   "cell_type": "markdown",
   "id": "d8940b1a",
   "metadata": {},
   "source": [
    "13.2 Read today.txt into. the string today_string"
   ]
  },
  {
   "cell_type": "code",
   "execution_count": 2,
   "id": "ae8e1149",
   "metadata": {},
   "outputs": [
    {
     "name": "stdout",
     "output_type": "stream",
     "text": [
      "2025-09-30\n"
     ]
    }
   ],
   "source": [
    "with open(\"today.txt\", \"r\") as file:\n",
    "    today_string = file.read()\n",
    "\n",
    "print(today_string)   # check output"
   ]
  },
  {
   "cell_type": "markdown",
   "id": "41c66a4b",
   "metadata": {},
   "source": [
    "13.3 Parse the date from today_string"
   ]
  },
  {
   "cell_type": "code",
   "execution_count": 3,
   "id": "68493d7b",
   "metadata": {},
   "outputs": [
    {
     "name": "stdout",
     "output_type": "stream",
     "text": [
      "2025-09-30 <class 'datetime.date'>\n"
     ]
    }
   ],
   "source": [
    "from datetime import datetime\n",
    "\n",
    "# parse string back to date object\n",
    "parsed_date = datetime.strptime(today_string, \"%Y-%m-%d\").date()\n",
    "print(parsed_date, type(parsed_date))"
   ]
  },
  {
   "cell_type": "markdown",
   "id": "a4f500df",
   "metadata": {},
   "source": [
    "15.1 Use multiprocessing to create three processes"
   ]
  },
  {
   "cell_type": "code",
   "execution_count": 4,
   "id": "adc337f2",
   "metadata": {},
   "outputs": [
    {
     "name": "stdout",
     "output_type": "stream",
     "text": [
      "Worker-2 ran at 2025-09-30 18:45:14.470557 after waiting 0.23 seconds\n",
      "Worker-1 ran at 2025-09-30 18:45:14.922019 after waiting 0.68 seconds\n",
      "Worker-3 ran at 2025-09-30 18:45:15.183982 after waiting 0.95 seconds\n"
     ]
    }
   ],
   "source": [
    "from multiprocessing.dummy import Pool  # uses threads\n",
    "import time, random\n",
    "from datetime import datetime\n",
    "\n",
    "def worker(i):\n",
    "    wait_time = random.random()\n",
    "    time.sleep(wait_time)\n",
    "    print(f\"Worker-{i} ran at {datetime.now()} after waiting {wait_time:.2f} seconds\")\n",
    "\n",
    "if __name__ == \"__main__\":\n",
    "    with Pool(3) as pool:\n",
    "        pool.map(worker, [1, 2, 3])"
   ]
  }
 ],
 "metadata": {
  "kernelspec": {
   "display_name": "Python 3",
   "language": "python",
   "name": "python3"
  },
  "language_info": {
   "codemirror_mode": {
    "name": "ipython",
    "version": 3
   },
   "file_extension": ".py",
   "mimetype": "text/x-python",
   "name": "python",
   "nbconvert_exporter": "python",
   "pygments_lexer": "ipython3",
   "version": "3.13.1"
  }
 },
 "nbformat": 4,
 "nbformat_minor": 5
}
